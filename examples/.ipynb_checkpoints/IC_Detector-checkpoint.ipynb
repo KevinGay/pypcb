{
 "cells": [
  {
   "cell_type": "markdown",
   "metadata": {},
   "source": [
    "# IC Detector from the PCB image\n",
    "\n",
    "Require a text file with list of images and the largest dimension size of the smallest IC\n",
    "Other components can be detected in the same way \n",
    "List of components = [ic, resistor, capacitor]"
   ]
  },
  {
   "cell_type": "code",
   "execution_count": null,
   "metadata": {
    "collapsed": true
   },
   "outputs": [],
   "source": [
    "%matplotlib inline\n",
    "import sys\n",
    "import os\n",
    "import matplotlib.pyplot as plt\n",
    "import cv2\n",
    "import config\n",
    "import caffe\n",
    "\n",
    "import detector"
   ]
  },
  {
   "cell_type": "code",
   "execution_count": null,
   "metadata": {
    "collapsed": true
   },
   "outputs": [],
   "source": [
    "# load the image list file - format is full_image_path \\t min_ic_size\n",
    "\n",
    "imglist = 'imagelist.txt'\n",
    "\n",
    "with open(imglist, 'r') as f:\n",
    "    lol = [x.strip().split(',') for x in f]\n",
    "\n",
    "print lol"
   ]
  },
  {
   "cell_type": "code",
   "execution_count": null,
   "metadata": {
    "collapsed": true
   },
   "outputs": [],
   "source": [
    "# Initialize the detector\n",
    "icDetector = detector.componentDetector(\"ic\", \"gpu\")\n",
    "\n",
    "for image, minsize in lol:\n",
    "    minsize = int(minsize)\n",
    "    \n",
    "    # detect the bounding boxes\n",
    "    # boundingBoxes - [x,y,w,h,confidence_score]\n",
    "    boundingBoxes = icDetector.detect(image, minsize)\n",
    "    \n",
    "    # read the image\n",
    "    im = caffe.io.load_image(image)\n",
    "    \n",
    "    # draw bounding boxes\n",
    "    helperModules.drawBoundingBoxes(im, boundingBoxes, \"Detected Image\")\n",
    "    "
   ]
  }
 ],
 "metadata": {
  "kernelspec": {
   "display_name": "Python 2",
   "language": "python",
   "name": "python2"
  },
  "language_info": {
   "codemirror_mode": {
    "name": "ipython",
    "version": 2
   },
   "file_extension": ".py",
   "mimetype": "text/x-python",
   "name": "python",
   "nbconvert_exporter": "python",
   "pygments_lexer": "ipython2",
   "version": "2.7.13"
  }
 },
 "nbformat": 4,
 "nbformat_minor": 2
}
