{
 "cells": [
  {
   "cell_type": "markdown",
   "metadata": {},
   "source": [
    "# Text Detection Example\n",
    "Detect the text in a given image"
   ]
  },
  {
   "cell_type": "code",
   "execution_count": 1,
   "metadata": {},
   "outputs": [
    {
     "name": "stdout",
     "output_type": "stream",
     "text": [
      "['/data0/mahaling/TEXT/CTPN/caffe/python', '', '/home/mahalingamg/Dropbox/pypcb/examples', '/usr/lib/python2.7', '/usr/lib/python2.7/plat-x86_64-linux-gnu', '/usr/lib/python2.7/lib-tk', '/usr/lib/python2.7/lib-old', '/usr/lib/python2.7/lib-dynload', '/home/mahalingamg/.local/lib/python2.7/site-packages', '/usr/local/lib/python2.7/dist-packages', '/usr/lib/python2.7/dist-packages', '/usr/lib/python2.7/dist-packages/PILcompat', '/usr/lib/python2.7/dist-packages/gtk-2.0', '/usr/lib/pymodules/python2.7', '/usr/lib/python2.7/dist-packages/ubuntu-sso-client', '/usr/lib/python2.7/dist-packages/wx-2.8-gtk2-unicode', '/usr/local/lib/python2.7/dist-packages/IPython/extensions', '/home/mahalingamg/.ipython']\n",
      "<module 'caffe' from '/data0/mahaling/TEXT/CTPN/caffe/python/caffe/__init__.pyc'>\n"
     ]
    }
   ],
   "source": [
    "%matplotlib inline\n",
    "import os\n",
    "import sys\n",
    "import matplotlib.pyplot as plt\n",
    "import cv2\n",
    "\n",
    "from textDetector.textRecognizer import TextRecognizer\n",
    "from textDetector.other import draw_boxes\n",
    "\n",
    "if '/usr/local/caffe/python' in sys.path:\n",
    "    sys.path.remove('/usr/local/caffe/python')\n",
    "\n",
    "if '/data0/mahaling/TEXT/CTPN/caffe/python' not in sys.path:\n",
    "    sys.path.insert(0, '/data0/mahaling/TEXT/CTPN/caffe/python')\n",
    "import caffe\n",
    "print caffe\n"
   ]
  },
  {
   "cell_type": "code",
   "execution_count": null,
   "metadata": {
    "collapsed": true
   },
   "outputs": [],
   "source": [
    "img = \"images/A002F000.jpg\"\n",
    "\n",
    "# Load the image\n",
    "image = cv2.imread(img)\n",
    "\n",
    "# Inititalize the textDetector\n",
    "tr = TextRecognizer(cfg.NET_FILE, cfg,MODEL_FILE, mode=\"GPU\")\n"
   ]
  },
  {
   "cell_type": "code",
   "execution_count": null,
   "metadata": {
    "collapsed": true
   },
   "outputs": [],
   "source": []
  }
 ],
 "metadata": {
  "kernelspec": {
   "display_name": "Python 2",
   "language": "python",
   "name": "python2"
  },
  "language_info": {
   "codemirror_mode": {
    "name": "ipython",
    "version": 2
   },
   "file_extension": ".py",
   "mimetype": "text/x-python",
   "name": "python",
   "nbconvert_exporter": "python",
   "pygments_lexer": "ipython2",
   "version": "2.7.13"
  }
 },
 "nbformat": 4,
 "nbformat_minor": 2
}
