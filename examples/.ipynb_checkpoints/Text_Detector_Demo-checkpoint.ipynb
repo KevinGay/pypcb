{
 "cells": [
  {
   "cell_type": "markdown",
   "metadata": {},
   "source": [
    "# Text Detection Example\n",
    "Detect the text in a given image"
   ]
  },
  {
   "cell_type": "code",
   "execution_count": 1,
   "metadata": {
    "collapsed": true
   },
   "outputs": [],
   "source": [
    "%matplotlib inline\n",
    "import os\n",
    "import sys\n",
    "import matplotlib.pyplot as plt\n",
    "import cv2\n",
    "from matplotlib import cm\n",
    "\n",
    "from textDetector.textRecognizer import TextRecognizer\n",
    "from textDetector.other import draw_boxes, resize_im\n",
    "from textDetector.config import Config as cfg\n",
    "\n",
    "if '/usr/local/caffe/python' in sys.path:\n",
    "    sys.path.remove('/usr/local/caffe/python')\n",
    "\n",
    "if '/data0/mahaling/TEXT/CTPN/caffe/python' not in sys.path:\n",
    "    sys.path.insert(0, '/data0/mahaling/TEXT/CTPN/caffe/python')\n",
    "import caffe\n"
   ]
  },
  {
   "cell_type": "code",
   "execution_count": null,
   "metadata": {
    "collapsed": true
   },
   "outputs": [],
   "source": [
    "img = \"images/pcb1.jpg\"\n",
    "\n",
    "# Load the image\n",
    "image = cv2.imread(img)\n",
    "\n",
    "# Inititalize the textDetector\n",
    "tr = TextRecognizer(\"GPU\")\n",
    "\n",
    "# Detect text from the image\n",
    "texts = tr.detectText(img)\n",
    "\n",
    "print len(texts)\n"
   ]
  },
  {
   "cell_type": "code",
   "execution_count": null,
   "metadata": {
    "collapsed": true
   },
   "outputs": [],
   "source": [
    "im = image.copy()\n",
    "\n",
    "im, f = resize_im(im, cfg.SCALE, cfg.MAX_SCALE)\n",
    "\n",
    "for box in texts[:10]:\n",
    "    c=tuple(cm.jet([box[-1]])[0, 2::-1]*255)\n",
    "    cv2.rectangle(im, tuple(box[:2]), tuple(box[2:4]), c)\n",
    "\n",
    "plt.imshow(im)\n",
    "plt.show()"
   ]
  },
  {
   "cell_type": "code",
   "execution_count": null,
   "metadata": {
    "collapsed": true
   },
   "outputs": [],
   "source": []
  }
 ],
 "metadata": {
  "kernelspec": {
   "display_name": "Python 2",
   "language": "python",
   "name": "python2"
  },
  "language_info": {
   "codemirror_mode": {
    "name": "ipython",
    "version": 2
   },
   "file_extension": ".py",
   "mimetype": "text/x-python",
   "name": "python",
   "nbconvert_exporter": "python",
   "pygments_lexer": "ipython2",
   "version": "2.7.6"
  }
 },
 "nbformat": 4,
 "nbformat_minor": 2
}
